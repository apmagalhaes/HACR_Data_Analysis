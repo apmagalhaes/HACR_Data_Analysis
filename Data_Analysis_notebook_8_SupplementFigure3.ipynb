{
 "cells": [
  {
   "cell_type": "code",
   "execution_count": 1,
   "metadata": {
    "collapsed": true,
    "deletable": true,
    "editable": true
   },
   "outputs": [],
   "source": [
    "%matplotlib inline\n",
    "import pandas\n",
    "import numpy\n",
    "import seaborn\n",
    "import scipy\n",
    "import matplotlib.pyplot as plt\n",
    "seaborn.set_context(font_scale=1.5)"
   ]
  },
  {
   "cell_type": "code",
   "execution_count": 4,
   "metadata": {
    "collapsed": false,
    "deletable": true,
    "editable": true
   },
   "outputs": [
    {
     "name": "stdout",
     "output_type": "stream",
     "text": [
      "Anova 4148 vs 3811 0 24D: F_onewayResult(statistic=11.487294792053607, pvalue=0.0037438097411643984)\n",
      "Anova 4148 vs 3811 50 24D: F_onewayResult(statistic=0.048998828133377706, pvalue=0.83215575284716037)\n"
     ]
    },
    {
     "data": {
      "image/png": "[encoded data removed]",
      "text/plain": [
       "<matplotlib.figure.Figure at 0xc7934a8>"
      ]
     },
     "metadata": {},
     "output_type": "display_data"
    }
   ],
   "source": [
    "data=pandas.read_excel('/Users/arjun/Google Drive/HDCTF/Data/180414 - AuxinHACR qPCR data/qPCR_results.xlsx')\n",
    "\n",
    "fig = seaborn.FacetGrid(data=data,size=5)\n",
    "fig = fig.map(seaborn.boxplot,'24D conc','PP2A_normalized_qPCR','Genotype',palette='Spectral').add_legend()\n",
    "\n",
    "anova = scipy.stats.f_oneway(data[(data['Genotype']==4148)&(data['24D conc']==0)]['PP2A_normalized_qPCR'],data[(data['Genotype']==3811)&(data['24D conc']==0)]['PP2A_normalized_qPCR'])\n",
    "print('Anova 4148 vs 3811 0 24D: '+str(anova))\n",
    "anova = scipy.stats.f_oneway(data[(data['Genotype']==4148)&(data['24D conc']==50)]['PP2A_normalized_qPCR'],data[(data['Genotype']==3811)&(data['24D conc']==50)]['PP2A_normalized_qPCR'])\n",
    "print('Anova 4148 vs 3811 50 24D: '+str(anova))\n"
   ]
  }
 ],
 "metadata": {
  "kernelspec": {
   "display_name": "Python 2",
   "language": "python",
   "name": "python2"
  },
  "language_info": {
   "codemirror_mode": {
    "name": "ipython",
    "version": 2
   },
   "file_extension": ".py",
   "mimetype": "text/x-python",
   "name": "python",
   "nbconvert_exporter": "python",
   "pygments_lexer": "ipython2",
   "version": "2.7.11"
  }
 },
 "nbformat": 4,
 "nbformat_minor": 0
}
